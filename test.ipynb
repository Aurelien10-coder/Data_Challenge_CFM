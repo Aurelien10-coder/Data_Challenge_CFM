{
 "cells": [
  {
   "cell_type": "code",
   "execution_count": null,
   "metadata": {},
   "outputs": [],
   "source": [
    "import pandas as pd\n",
    "import tensorflow as tf\n",
    "import numpy as np\n",
    "\n",
    "from tensorflow.keras import layers, models\n",
    "from sklearn.preprocessing import LabelEncoder\n",
    "\n",
    "from sklearn.model_selection import train_test_split\n",
    "from sklearn.metrics import accuracy_score"
   ]
  },
  {
   "cell_type": "markdown",
   "metadata": {},
   "source": [
    "# Fonctions"
   ]
  },
  {
   "cell_type": "code",
   "execution_count": null,
   "metadata": {},
   "outputs": [],
   "source": [
    "def create_benchmark_model():\n",
    "\n",
    "    inputs = layers.Input(shape=(100, 19))\n",
    "\n",
    "    gru_fwd = layers.GRU(64, return_sequences=False)(inputs)\n",
    "    gru_bwd = layers.GRU(64, return_sequences=False, go_backwards=True)(inputs)\n",
    "\n",
    "    concatenated = layers.concatenate([gru_fwd, gru_bwd])\n",
    "    dense_1 = layers.Dense(64, activation='selu')(concatenated)\n",
    "    dense_2 = layers.Dense(128, activation='selu')(dense_1)\n",
    "    dense_3 = layers.Dense(128, activation='selu')(dense_2)\n",
    "    dense_4 = layers.Dense(64, activation='selu')(dense_3)\n",
    "    output = layers.Dense(24, activation='softmax')(dense_4)\n",
    "\n",
    "    model = tf.keras.Model(inputs=inputs, outputs=output)\n",
    "    \n",
    "    model.compile(optimizer=tf.keras.optimizers.Adam(learning_rate=3e-3),\n",
    "                loss='sparse_categorical_crossentropy')\n",
    "    \n",
    "    return model"
   ]
  },
  {
   "cell_type": "markdown",
   "metadata": {},
   "source": [
    "# Création de la base de donnée"
   ]
  },
  {
   "cell_type": "code",
   "execution_count": null,
   "metadata": {},
   "outputs": [],
   "source": [
    "\n",
    "pd.set_option('display.max_columns', None)\n",
    "\n",
    "df=pd.read_csv(\"/Users/aurelientarroux/Desktop/Projet_prog/Projet_2/Data/X_train_N1UvY30.csv\")  \n",
    "df_result=pd.read_csv(\"/Users/aurelientarroux/Desktop/Projet_prog/Projet_2/Data/y_train_or6m3Ta.csv\")   \n",
    "\n",
    "df['bid_ask_spread']=df['ask']-df['bid']\n",
    "df['trade']=df['trade'].astype(int)\n",
    "\n",
    "value_categor=['venue','action','side']\n",
    "\n",
    "for k in value_categor:\n",
    "\n",
    "    df_encoded = pd.get_dummies(df[k], prefix=k).astype(int)\n",
    "    df = df.merge( df_encoded , left_index = True , right_index = True)\n",
    "    df.drop( columns=[k] , inplace = True )\n",
    "\n",
    "df.drop(columns=['obs_id','order_id'],inplace=True)\n",
    "\n",
    "value_no_center=['price' , 'bid' , 'ask' , 'bid_size', 'ask_size', 'bid_ask_spread' ]\n",
    "\n",
    "for k in value_no_center:\n",
    "    \n",
    "    df[k] = df[k] / max( df[k] )"
   ]
  },
  {
   "cell_type": "code",
   "execution_count": null,
   "metadata": {},
   "outputs": [],
   "source": [
    "X = df.values.reshape(160800, 100, 19)\n",
    "y = df_result['eqt_code_cat'].values\n",
    "x_train, x_test, y_train, y_test = train_test_split(X, y, test_size=0.2, random_state=42)\n"
   ]
  },
  {
   "cell_type": "markdown",
   "metadata": {},
   "source": [
    "# Mise en place d'un modèle"
   ]
  },
  {
   "cell_type": "code",
   "execution_count": null,
   "metadata": {},
   "outputs": [],
   "source": [
    "model = create_benchmark_model()\n",
    "history = model.fit(x_train, y_train, batch_size = 1000, epochs = 10)"
   ]
  },
  {
   "cell_type": "code",
   "execution_count": null,
   "metadata": {},
   "outputs": [],
   "source": [
    "prediction_prob = model.predict(x_test)\n",
    "y_pred = []\n",
    "for k in prediction_prob :\n",
    "    y_pred += [ k.argmax() ]"
   ]
  },
  {
   "cell_type": "code",
   "execution_count": null,
   "metadata": {},
   "outputs": [],
   "source": [
    "accuracy_score(y_pred,y_test)"
   ]
  }
 ],
 "metadata": {
  "kernelspec": {
   "display_name": "Python 3",
   "language": "python",
   "name": "python3"
  },
  "language_info": {
   "codemirror_mode": {
    "name": "ipython",
    "version": 3
   },
   "file_extension": ".py",
   "mimetype": "text/x-python",
   "name": "python",
   "nbconvert_exporter": "python",
   "pygments_lexer": "ipython3",
   "version": "3.12.5"
  }
 },
 "nbformat": 4,
 "nbformat_minor": 2
}
