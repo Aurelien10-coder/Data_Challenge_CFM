{
 "cells": [
  {
   "cell_type": "code",
   "execution_count": null,
   "metadata": {},
   "outputs": [],
   "source": [
    "import pandas as pd\n",
    "import tensorflow as tf\n",
    "from tensorflow.keras import layers, models\n",
    "\n",
    "from sklearn.model_selection import train_test_split\n",
    "from sklearn.metrics import accuracy_score\n",
    "\n",
    "pd.set_option('display.max_columns', None)"
   ]
  },
  {
   "cell_type": "markdown",
   "metadata": {},
   "source": [
    "# Definition des fonctions"
   ]
  },
  {
   "cell_type": "code",
   "execution_count": null,
   "metadata": {},
   "outputs": [],
   "source": [
    "def neural_networks():\n",
    "\n",
    "    model = models.Sequential()\n",
    "\n",
    "    model.add(layers.Dense(128, activation='relu', input_shape=(100*19,)))\n",
    "    model.add(layers.Dense(64, activation='relu'))\n",
    "    model.add(layers.Dense(64, activation='relu'))\n",
    "    model.add(layers.Dense(24, activation='softmax'))\n",
    "\n",
    "    model.compile(optimizer='adam', loss='sparse_categorical_crossentropy', metrics=['accuracy'])\n",
    "    \n",
    "    return model\n"
   ]
  },
  {
   "cell_type": "markdown",
   "metadata": {},
   "source": [
    "# Construction base de données"
   ]
  },
  {
   "cell_type": "code",
   "execution_count": null,
   "metadata": {},
   "outputs": [],
   "source": [
    "X_train_intitial=pd.read_csv(\"/Users/aurelientarroux/Desktop/Projet_prog/Projet_2/Data/X_train_N1UvY30.csv\")  \n",
    "y_train_intitial=pd.read_csv(\"/Users/aurelientarroux/Desktop/Projet_prog/Projet_2/Data/y_train_or6m3Ta.csv\") \n",
    "X_test_initial=pd.read_csv(\"/Users/aurelientarroux/Desktop/Projet_prog/Projet_2/Data/X_test_m4HAPAP.csv\") "
   ]
  },
  {
   "cell_type": "code",
   "execution_count": null,
   "metadata": {},
   "outputs": [],
   "source": [
    "def data_base(X):\n",
    "    X['bid_ask_spread']=X['ask']-X['bid']\n",
    "    X['trade']=X['trade'].astype(int)\n",
    "\n",
    "    value_categor=['venue','action','side']\n",
    "\n",
    "    for k in value_categor:\n",
    "\n",
    "        X_encoded = pd.get_dummies(X[k], prefix=k).astype(int)\n",
    "        X = X.merge( X_encoded , left_index = True , right_index = True)\n",
    "        X.drop( columns=[k] , inplace = True )\n",
    "\n",
    "    X.drop(columns=['obs_id','order_id'],inplace=True)\n",
    "\n",
    "\n",
    "    value_no_center=['price' , 'bid' , 'ask' , 'bid_size', 'ask_size', 'bid_ask_spread' ]\n",
    "\n",
    "    for k in value_no_center:\n",
    "    \n",
    "        X[k] = X[k] / max( X[k] )\n",
    "\n",
    "    X=X.values.reshape(-1, 19 * 100)\n",
    "    \n",
    "    return X"
   ]
  },
  {
   "cell_type": "markdown",
   "metadata": {},
   "source": [
    "# Test du modèle"
   ]
  },
  {
   "cell_type": "code",
   "execution_count": null,
   "metadata": {},
   "outputs": [],
   "source": [
    "X_train, X_test, y_train, y_test = train_test_split(data_base(X_train_intitial), y_train_intitial['eqt_code_cat'].array, test_size=0.2, random_state=42)"
   ]
  },
  {
   "cell_type": "code",
   "execution_count": null,
   "metadata": {},
   "outputs": [],
   "source": [
    "model_1 = neural_networks()\n",
    "model_1.fit(X_train, y_train, epochs=10, batch_size=64)\n",
    "\n",
    "predictions_prod = model_1.predict(X_test)\n",
    "y_pred=[]\n",
    "for liste in predictions_prod:\n",
    "    top = liste.argmax()\n",
    "    y_pred += [top]\n",
    "    \n",
    "accuracy_score(y_pred,y_test)"
   ]
  }
 ],
 "metadata": {
  "kernelspec": {
   "display_name": "Python 3",
   "language": "python",
   "name": "python3"
  },
  "language_info": {
   "codemirror_mode": {
    "name": "ipython",
    "version": 3
   },
   "file_extension": ".py",
   "mimetype": "text/x-python",
   "name": "python",
   "nbconvert_exporter": "python",
   "pygments_lexer": "ipython3",
   "version": "3.12.5"
  }
 },
 "nbformat": 4,
 "nbformat_minor": 2
}
