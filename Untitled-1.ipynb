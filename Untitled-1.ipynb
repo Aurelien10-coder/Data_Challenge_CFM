{
 "cells": [
  {
   "cell_type": "code",
   "execution_count": null,
   "metadata": {},
   "outputs": [],
   "source": [
    "import pandas as pd \n",
    "from sklearn.model_selection import train_test_split\n",
    "from sklearn.preprocessing import StandardScaler\n",
    "import matplotlib.pyplot as plt\n"
   ]
  },
  {
   "cell_type": "code",
   "execution_count": null,
   "metadata": {},
   "outputs": [],
   "source": [
    "pd.set_option('display.max_rows', 1000)"
   ]
  },
  {
   "cell_type": "code",
   "execution_count": null,
   "metadata": {},
   "outputs": [],
   "source": [
    "df=pd.read_csv(\"/Users/aurelientarroux/Desktop/Projet_prog/Projet_2/Data/X_train_N1UvY30.csv\")  \n",
    "df_result=pd.read_csv(\"/Users/aurelientarroux/Desktop/Projet_prog/Projet_2/Data/y_train_or6m3Ta.csv\")   \n",
    "df=df.merge(df_result, on='obs_id', how='inner')"
   ]
  },
  {
   "cell_type": "code",
   "execution_count": null,
   "metadata": {},
   "outputs": [],
   "source": [
    "df.head(100)\n",
    "df['flux']=df['flux'].apply(abs)\n",
    "type(df)"
   ]
  },
  {
   "cell_type": "code",
   "execution_count": null,
   "metadata": {},
   "outputs": [],
   "source": [
    "df_test=(df[['eqt_code_cat']]).drop_duplicates()\n",
    "df_test.reset_index(drop=True,inplace=True)\n",
    "type(df_test)"
   ]
  },
  {
   "cell_type": "code",
   "execution_count": null,
   "metadata": {},
   "outputs": [],
   "source": [
    "df_test['mean_bid']=pd.DataFrame(df.groupby('obs_id')['bid'].mean())\n",
    "df_test['mean_ask']=pd.DataFrame(df.groupby('obs_id')['ask'].mean())\n",
    "df_test['mean_price']=pd.DataFrame(df.groupby('obs_id')['price'].mean())\n",
    "df_test['mean_bid_size']=pd.DataFrame(df.groupby('obs_id')['bid_size'].mean())\n",
    "df_test['mean_ask_size']=pd.DataFrame(df.groupby('obs_id')['ask_size'].mean())\n",
    "df_test['mean_flux']=pd.DataFrame(df.groupby('obs_id')['flux'].mean())"
   ]
  },
  {
   "cell_type": "code",
   "execution_count": null,
   "metadata": {},
   "outputs": [],
   "source": [
    "df_test['std_bid']=pd.DataFrame(df.groupby('obs_id')['bid'].std())\n",
    "df_test['std_ask']=pd.DataFrame(df.groupby('obs_id')['ask'].std())\n",
    "df_test['std_price']=pd.DataFrame(df.groupby('obs_id')['price'].std())\n",
    "df_test['std_bid_size']=pd.DataFrame(df.groupby('obs_id')['bid_size'].std())\n",
    "df_test['std_ask_size']=pd.DataFrame(df.groupby('obs_id')['ask_size'].std())\n",
    "df_test['std_flux']=pd.DataFrame(df.groupby('obs_id')['flux'].std())\n"
   ]
  },
  {
   "cell_type": "code",
   "execution_count": null,
   "metadata": {},
   "outputs": [],
   "source": [
    "result = pd.DataFrame(df.groupby('obs_id')['action'].value_counts().unstack(fill_value=0))\n"
   ]
  },
  {
   "cell_type": "code",
   "execution_count": null,
   "metadata": {},
   "outputs": [],
   "source": [
    "df_test['output']=df_test.merge(df_result,on='obs_id',how='inner')\n",
    "df_test['place']=df['venue']"
   ]
  },
  {
   "cell_type": "code",
   "execution_count": null,
   "metadata": {},
   "outputs": [],
   "source": [
    "\n",
    "X=df_test.drop(columns=['output','obs_id'],axis=1)\n",
    "y=df_test['output']\n"
   ]
  },
  {
   "cell_type": "code",
   "execution_count": null,
   "metadata": {},
   "outputs": [],
   "source": [
    "\"\"\"\n",
    "from sklearn.preprocessing import LabelEncoder\n",
    "\n",
    "# Supposons que nous ayons une variable catégorielle 'cat_var'\n",
    "label_encoder = LabelEncoder()\n",
    "X['cat_var_encoded'] = label_encoder.fit_transform(X['place'])\n",
    "X['cat_var_encoded2'] = label_encoder.fit_transform(X['place'])\n",
    "X['cat_var_encoded3'] = label_encoder.fit_transform(X['place'])\n",
    "\n",
    "\"\"\""
   ]
  },
  {
   "cell_type": "code",
   "execution_count": null,
   "metadata": {},
   "outputs": [],
   "source": [
    "\n",
    "import xgboost as xgb\n",
    "from sklearn.model_selection import train_test_split\n",
    "from sklearn.metrics import accuracy_score\n",
    "\n",
    "\n",
    "# Division des données en ensembles d'entraînement et de test\n",
    "X_train, X_test, y_train, y_test = train_test_split(X, y, test_size=0.2, random_state=42)\n",
    "\n",
    "# Création du modèle XGBoost pour la classification\n",
    "model = xgb.XGBClassifier(objective='multi:softmax')\n",
    "\n",
    "# Entraînement du modèle\n",
    "model.fit(X_train, y_train)\n",
    "\n",
    "# Prédictions\n",
    "y_pred = model.predict(X_test)\n",
    "\n",
    "# Évaluation des performances\n",
    "accuracy = accuracy_score(y_test, y_pred)\n",
    "print(accuracy)"
   ]
  }
 ],
 "metadata": {
  "kernelspec": {
   "display_name": "Python 3",
   "language": "python",
   "name": "python3"
  },
  "language_info": {
   "codemirror_mode": {
    "name": "ipython",
    "version": 3
   },
   "file_extension": ".py",
   "mimetype": "text/x-python",
   "name": "python",
   "nbconvert_exporter": "python",
   "pygments_lexer": "ipython3",
   "version": "3.12.5"
  }
 },
 "nbformat": 4,
 "nbformat_minor": 2
}
